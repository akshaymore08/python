{
 "cells": [
  {
   "cell_type": "markdown",
   "metadata": {},
   "source": [
    "Q.1."
   ]
  },
  {
   "cell_type": "code",
   "execution_count": null,
   "metadata": {},
   "outputs": [],
   "source": [
    "class fibonacci:\n",
    "    \n",
    "    def__init__(self):\n",
    "        self.cache ={}\n",
    "    \n",
    "    def__call__(self,n):\n",
    "        if n not in self.cache:\n",
    "            if  n==0  \n",
    "               self.cache[0]=0\n",
    "            elif n==1\n",
    "               self.cache[1]=1\n",
    "            else: \n",
    "                self.cache[n]=self._call_(n-1)+ self._call_(n-2)\n",
    "        return self.cache[n]\n",
    "    \n",
    "fib = fibonacci()\n",
    "\n",
    "for i in range(10):\n",
    "    print(fib(i),end=\",\")"
   ]
  },
  {
   "cell_type": "markdown",
   "metadata": {},
   "source": [
    "Q.2"
   ]
  },
  {
   "cell_type": "code",
   "execution_count": 1,
   "metadata": {},
   "outputs": [
    {
     "name": "stdout",
     "output_type": "stream",
     "text": [
      "file is in rean mode cannot write\n"
     ]
    }
   ],
   "source": [
    "try:\n",
    "    f=open(\"newtextfile.txt\",)\n",
    "    f.write(\"hi this is me\")\n",
    "except:\n",
    "    print(\"file is in rean mode cannot write\")"
   ]
  },
  {
   "cell_type": "code",
   "execution_count": null,
   "metadata": {},
   "outputs": [],
   "source": []
  }
 ],
 "metadata": {
  "kernelspec": {
   "display_name": "Python 3",
   "language": "python",
   "name": "python3"
  },
  "language_info": {
   "codemirror_mode": {
    "name": "ipython",
    "version": 3
   },
   "file_extension": ".py",
   "mimetype": "text/x-python",
   "name": "python",
   "nbconvert_exporter": "python",
   "pygments_lexer": "ipython3",
   "version": "3.8.3"
  }
 },
 "nbformat": 4,
 "nbformat_minor": 4
}
