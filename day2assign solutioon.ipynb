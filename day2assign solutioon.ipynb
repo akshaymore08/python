{
 "cells": [
  {
   "cell_type": "markdown",
   "metadata": {},
   "source": [
    "# List and its default functions"
   ]
  },
  {
   "cell_type": "code",
   "execution_count": null,
   "metadata": {},
   "outputs": [],
   "source": [
    "lst=[\"cat\",\"dog\"]"
   ]
  },
  {
   "cell_type": "code",
   "execution_count": 4,
   "metadata": {
    "scrolled": true
   },
   "outputs": [
    {
     "name": "stdout",
     "output_type": "stream",
     "text": [
      "['cat', 'dog']\n",
      "['cat', 'dog', 'animal']\n"
     ]
    }
   ],
   "source": [
    "#1.append\n",
    "lst = [\"cat\", \"dog\"]\n",
    "print(lst)\n",
    "lst.append(\"animal\")\n",
    "print(lst)"
   ]
  },
  {
   "cell_type": "code",
   "execution_count": 5,
   "metadata": {
    "scrolled": true
   },
   "outputs": [
    {
     "name": "stdout",
     "output_type": "stream",
     "text": [
      "['cat', 'dog']\n",
      "['cat', 'dog', 'a', 'n', 'i', 'm', 'a', 'l']\n"
     ]
    }
   ],
   "source": [
    "#2.extend\n",
    "lst = [\"cat\", \"dog\"]\n",
    "print(lst)\n",
    "lst.extend(\"animal\")\n",
    "print(lst)"
   ]
  },
  {
   "cell_type": "code",
   "execution_count": 9,
   "metadata": {
    "scrolled": true
   },
   "outputs": [
    {
     "name": "stdout",
     "output_type": "stream",
     "text": [
      "['cat', 'dog']\n",
      "['animal', 'cat', 'dog']\n"
     ]
    }
   ],
   "source": [
    "#3.insert\n",
    "lst = [\"cat\", \"dog\"]\n",
    "print(lst)\n",
    "lst.insert(0,\"animal\")\n",
    "print(lst)"
   ]
  },
  {
   "cell_type": "code",
   "execution_count": 10,
   "metadata": {},
   "outputs": [
    {
     "name": "stdout",
     "output_type": "stream",
     "text": [
      "['cat', 'dog']\n",
      "['dog']\n"
     ]
    }
   ],
   "source": [
    "#4.remove\n",
    "lst = [\"cat\", \"dog\"]\n",
    "print(lst)\n",
    "lst.remove(\"cat\")\n",
    "print(lst)"
   ]
  },
  {
   "cell_type": "code",
   "execution_count": 11,
   "metadata": {},
   "outputs": [
    {
     "name": "stdout",
     "output_type": "stream",
     "text": [
      "['cat', 'dog']\n",
      "[]\n"
     ]
    }
   ],
   "source": [
    "#5.clear\n",
    "lst = [\"cat\", \"dog\"]\n",
    "print(lst)\n",
    "lst.clear()\n",
    "print(lst)"
   ]
  },
  {
   "cell_type": "markdown",
   "metadata": {},
   "source": [
    "# Dictionary and its default functions"
   ]
  },
  {
   "cell_type": "code",
   "execution_count": 12,
   "metadata": {},
   "outputs": [
    {
     "name": "stdout",
     "output_type": "stream",
     "text": [
      "{'Name': 'akshay', 'Age': 20, 'Class': 'btech'}\n"
     ]
    }
   ],
   "source": [
    "dict = {\"Name\" : \"akshay\", \"Age\" : 20, \"Class\" : \"btech\"} \n",
    "print(dict)"
   ]
  },
  {
   "cell_type": "code",
   "execution_count": 14,
   "metadata": {},
   "outputs": [
    {
     "name": "stdout",
     "output_type": "stream",
     "text": [
      "3\n"
     ]
    }
   ],
   "source": [
    "#1. len\n",
    "\n",
    "dict = {\"Name\" : \"akshay\" , \"Age\" : 20, \"Class\" : \"btech\"}\n",
    "print(len(dict))"
   ]
  },
  {
   "cell_type": "code",
   "execution_count": 15,
   "metadata": {},
   "outputs": [
    {
     "name": "stdout",
     "output_type": "stream",
     "text": [
      "<class 'dict'>\n"
     ]
    }
   ],
   "source": [
    "#2. type\n",
    "\n",
    "dict = {\"Name\" : \"akshay\", \"Age\" : 20, \"Class\" : \"btech\"} \n",
    "print(type(dict))"
   ]
  },
  {
   "cell_type": "code",
   "execution_count": 16,
   "metadata": {},
   "outputs": [
    {
     "name": "stdout",
     "output_type": "stream",
     "text": [
      "True\n"
     ]
    }
   ],
   "source": [
    "#3. any\n",
    "\n",
    "dict ={\"Name\" : \"akshay\", \"Age\" : 20, \"Class\" : \"btech\"} \n",
    "print(any(dict))"
   ]
  },
  {
   "cell_type": "code",
   "execution_count": null,
   "metadata": {},
   "outputs": [],
   "source": [
    "#4. sorted\n",
    "\n",
    "dict = {\"Name\" : \"akshay\", \"Age\" : 20, \"Class\" : \"btech\"}\n",
    "print(sorted(dict))"
   ]
  },
  {
   "cell_type": "code",
   "execution_count": 17,
   "metadata": {},
   "outputs": [
    {
     "name": "stdout",
     "output_type": "stream",
     "text": [
      "akshay\n"
     ]
    }
   ],
   "source": [
    "#5. get \n",
    "\n",
    "dict = {\"Name\" : \"akshay\", \"Age\" : 20, \"Class\" : \"btech\"} \n",
    "print(dict.get(\"Name\"))"
   ]
  },
  {
   "cell_type": "markdown",
   "metadata": {},
   "source": [
    "# sets and its default function"
   ]
  },
  {
   "cell_type": "code",
   "execution_count": 18,
   "metadata": {},
   "outputs": [
    {
     "name": "stdout",
     "output_type": "stream",
     "text": [
      "{'akshay', 'more', 12, 1999, 28}\n"
     ]
    }
   ],
   "source": [
    "\n",
    "st = {\"akshay\", \"more\", 28, 12, 1999} \n",
    "print(st9"
   ]
  },
  {
   "cell_type": "code",
   "execution_count": 20,
   "metadata": {},
   "outputs": [
    {
     "name": "stdout",
     "output_type": "stream",
     "text": [
      "{12, 28}\n"
     ]
    }
   ],
   "source": [
    "#1. intersection \n",
    "\n",
    "st1 = {\"akshay\", \"more\", 28, 12, 1999} \n",
    "st2 = {28, 12, 1997, \"Ramesh\", \"patil\"} \n",
    "print(st1.intersection(st2))"
   ]
  },
  {
   "cell_type": "code",
   "execution_count": 21,
   "metadata": {},
   "outputs": [
    {
     "name": "stdout",
     "output_type": "stream",
     "text": [
      "False\n"
     ]
    }
   ],
   "source": [
    "#2. issubset \n",
    "\n",
    "st1 = {\"akshay\", \"more\", 28, 12, 1999} \n",
    "st2 = {\"akshay\", 1999}\n",
    "print(st1.issubset(st2))\n"
   ]
  },
  {
   "cell_type": "code",
   "execution_count": 2,
   "metadata": {},
   "outputs": [
    {
     "name": "stdout",
     "output_type": "stream",
     "text": [
      "{12, 'akshay', 1999}\n"
     ]
    }
   ],
   "source": [
    "#3. remove\n",
    "\n",
    "st = {\"akshay\", 28, 12, 1999} \n",
    "st.remove(28) \n",
    "print(st)"
   ]
  },
  {
   "cell_type": "code",
   "execution_count": 4,
   "metadata": {},
   "outputs": [
    {
     "name": "stdout",
     "output_type": "stream",
     "text": [
      "{1, 'more', 'akshay', 12, 28, 1999}\n"
     ]
    }
   ],
   "source": [
    "#4. update \n",
    "\n",
    "st1 = {\"akshay\", 28, 12, 1999} \n",
    "st2 = {\"more\", 1}\n",
    "st1.update(st2) \n",
    "print(st1)"
   ]
  },
  {
   "cell_type": "code",
   "execution_count": 5,
   "metadata": {},
   "outputs": [
    {
     "name": "stdout",
     "output_type": "stream",
     "text": [
      "{12, 1999, 'more', 27, 28, 'akshay'}\n"
     ]
    }
   ],
   "source": [
    "#5. Union\n",
    "\n",
    "st1 = {\"akshay\", 28, 12, 1999} \n",
    "st2 = {\"more\", 27, 12, 1999}\n",
    "print(st1.union(st2))"
   ]
  },
  {
   "cell_type": "markdown",
   "metadata": {},
   "source": [
    " Tuple and explore its default method"
   ]
  },
  {
   "cell_type": "code",
   "execution_count": 9,
   "metadata": {},
   "outputs": [
    {
     "name": "stdout",
     "output_type": "stream",
     "text": [
      "('akshay', 'more', 28, 12, 1999)\n"
     ]
    }
   ],
   "source": [
    "tup = (\"akshay\",\"more\", 28, 12, 1999) \n",
    "print(tup)"
   ]
  },
  {
   "cell_type": "code",
   "execution_count": 1,
   "metadata": {},
   "outputs": [
    {
     "name": "stdout",
     "output_type": "stream",
     "text": [
      "2\n"
     ]
    }
   ],
   "source": [
    "#1. count\n",
    "\n",
    "tup = (\"akshay\", \"more\", \"akshay\", 28, 12, 1999) \n",
    "print(tup.count(\"akshay\"))"
   ]
  },
  {
   "cell_type": "code",
   "execution_count": 3,
   "metadata": {},
   "outputs": [
    {
     "name": "stdout",
     "output_type": "stream",
     "text": [
      "2\n"
     ]
    }
   ],
   "source": [
    "#2.index\n",
    "\n",
    "tup = (\"akshay\", \"more\", 28, 12, 1999) \n",
    "print(tup.index(28))"
   ]
  },
  {
   "cell_type": "code",
   "execution_count": 5,
   "metadata": {},
   "outputs": [
    {
     "name": "stdout",
     "output_type": "stream",
     "text": [
      "4\n"
     ]
    }
   ],
   "source": [
    "#3.len\n",
    "\n",
    "tup = (\"akshay\", 28, 12, 1999) \n",
    "print(len(tup))"
   ]
  },
  {
   "cell_type": "code",
   "execution_count": 7,
   "metadata": {},
   "outputs": [
    {
     "name": "stdout",
     "output_type": "stream",
     "text": [
      "1999\n"
     ]
    }
   ],
   "source": [
    "#4.max\n",
    "tup=(8,28,12,1999)\n",
    "print(max(tup))"
   ]
  },
  {
   "cell_type": "code",
   "execution_count": null,
   "metadata": {},
   "outputs": [],
   "source": [
    "# 5.min\n",
    "tup=(8,28,12,1999)\n",
    "print(min(tup))"
   ]
  },
  {
   "cell_type": "markdown",
   "metadata": {},
   "source": [
    "#string and its default method "
   ]
  },
  {
   "cell_type": "code",
   "execution_count": 9,
   "metadata": {},
   "outputs": [],
   "source": [
    "str=\"its akshay\""
   ]
  },
  {
   "cell_type": "code",
   "execution_count": 10,
   "metadata": {},
   "outputs": [
    {
     "name": "stdout",
     "output_type": "stream",
     "text": [
      "Its akshay\n"
     ]
    }
   ],
   "source": [
    "#1. Capitalize \n",
    "\n",
    "str = \"its akshay\" \n",
    "print(str.capitalize())"
   ]
  },
  {
   "cell_type": "code",
   "execution_count": 11,
   "metadata": {},
   "outputs": [
    {
     "name": "stdout",
     "output_type": "stream",
     "text": [
      "4\n"
     ]
    }
   ],
   "source": [
    "#2. Index\n",
    "\n",
    "str = \"its akshay\" \n",
    "print(str.index(\"akshay\"))"
   ]
  },
  {
   "cell_type": "code",
   "execution_count": 13,
   "metadata": {},
   "outputs": [
    {
     "name": "stdout",
     "output_type": "stream",
     "text": [
      "its akshay\n"
     ]
    }
   ],
   "source": [
    "#3. lower\n",
    "\n",
    "str = \"ITS AKSHAY\" \n",
    "print(str.lower())"
   ]
  },
  {
   "cell_type": "code",
   "execution_count": 14,
   "metadata": {},
   "outputs": [
    {
     "name": "stdout",
     "output_type": "stream",
     "text": [
      "Its Akshay\n"
     ]
    }
   ],
   "source": [
    "#4. title \n",
    "\n",
    "str = \"its akshay\" \n",
    "print(str.title())\n"
   ]
  },
  {
   "cell_type": "code",
   "execution_count": 15,
   "metadata": {},
   "outputs": [
    {
     "name": "stdout",
     "output_type": "stream",
     "text": [
      "                   its akshay                   \n"
     ]
    }
   ],
   "source": [
    "#5. center\n",
    "\n",
    "str = \"its akshay\" \n",
    "print(str.center(48))"
   ]
  }
 ],
 "metadata": {
  "kernelspec": {
   "display_name": "Python 3",
   "language": "python",
   "name": "python3"
  },
  "language_info": {
   "codemirror_mode": {
    "name": "ipython",
    "version": 3
   },
   "file_extension": ".py",
   "mimetype": "text/x-python",
   "name": "python",
   "nbconvert_exporter": "python",
   "pygments_lexer": "ipython3",
   "version": "3.8.3"
  }
 },
 "nbformat": 4,
 "nbformat_minor": 4
}
